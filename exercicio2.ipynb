{
 "cells": [
  {
   "cell_type": "code",
   "execution_count": null,
   "id": "9952efd6-1de1-4720-9c0f-8769deb2a3d1",
   "metadata": {},
   "outputs": [],
   "source": [
    "\"\"\"\n",
    "Exercício 2\n",
    "Autor: Anita Daudt\n",
    "Data: 27/02/2025\n",
    "Versão 0.0.1\n",
    "\"\"\"\n"
   ]
  },
  {
   "cell_type": "code",
   "execution_count": 2,
   "id": "eb688be2-d432-47be-912f-7ce65f7aecd0",
   "metadata": {},
   "outputs": [],
   "source": [
    "# Alocação de memória:\n",
    "\n",
    "numero_2 = 2\n",
    "numero_3 = 3"
   ]
  },
  {
   "cell_type": "code",
   "execution_count": null,
   "id": "b4102060-7b5d-440d-a088-5cc1b540d1b1",
   "metadata": {},
   "outputs": [],
   "source": [
    "# Entrada de dados:"
   ]
  },
  {
   "cell_type": "code",
   "execution_count": 4,
   "id": "b7c66f99-9534-4040-b9d3-599f1ad9f8f5",
   "metadata": {},
   "outputs": [],
   "source": [
    "# Processamento de dados:\n",
    "\n",
    "resultado = numero_2 + numero_3"
   ]
  },
  {
   "cell_type": "code",
   "execution_count": 6,
   "id": "7c8958d4-88ac-407d-930a-52aa39b388ff",
   "metadata": {},
   "outputs": [
    {
     "name": "stdout",
     "output_type": "stream",
     "text": [
      "5\n"
     ]
    }
   ],
   "source": [
    "# Saída de dados\n",
    "\n",
    "print(resultado)"
   ]
  },
  {
   "cell_type": "code",
   "execution_count": null,
   "id": "3032c4a8-6f53-4e09-b7df-a66c9995177e",
   "metadata": {},
   "outputs": [],
   "source": []
  }
 ],
 "metadata": {
  "kernelspec": {
   "display_name": "Python [conda env:anaconda 2]",
   "language": "python",
   "name": "conda-env-anaconda_2-py"
  },
  "language_info": {
   "codemirror_mode": {
    "name": "ipython",
    "version": 3
   },
   "file_extension": ".py",
   "mimetype": "text/x-python",
   "name": "python",
   "nbconvert_exporter": "python",
   "pygments_lexer": "ipython3",
   "version": "3.12.7"
  }
 },
 "nbformat": 4,
 "nbformat_minor": 5
}
